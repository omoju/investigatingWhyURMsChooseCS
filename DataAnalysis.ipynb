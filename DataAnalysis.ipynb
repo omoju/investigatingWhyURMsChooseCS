{
 "cells": [
  {
   "cell_type": "markdown",
   "metadata": {},
   "source": [
    "## Omoju MillerDissertation Data Analysis \n",
    "### Factors that lead students to choose CS major at Cal"
   ]
  },
  {
   "cell_type": "code",
   "execution_count": 1,
   "metadata": {
    "collapsed": false
   },
   "outputs": [
    {
     "name": "stderr",
     "output_type": "stream",
     "text": [
      "/Users/omojumiller/anaconda/lib/python2.7/site-packages/matplotlib/font_manager.py:273: UserWarning: Matplotlib is building the font cache using fc-list. This may take a moment.\n",
      "  warnings.warn('Matplotlib is building the font cache using fc-list. This may take a moment.')\n"
     ]
    }
   ],
   "source": [
    "import sys\n",
    "from pandas import DataFrame\n",
    "import pandas as pd \n",
    "import HelperFunctionDataAnalysis as myHelper # helper functions to display images\n",
    "\n",
    "import matplotlib as pl\n",
    "font_cache_path = pl.get_cachedir() + '/fontList.cache'\n",
    "%rm $font_cache_path\n",
    "\n",
    "\n"
   ]
  },
  {
   "cell_type": "code",
   "execution_count": 2,
   "metadata": {
    "collapsed": true
   },
   "outputs": [],
   "source": [
    "# have inline graphs\n",
    "%matplotlib inline"
   ]
  },
  {
   "cell_type": "markdown",
   "metadata": {},
   "source": [
    "#### Read in csv files and define dataframe object."
   ]
  },
  {
   "cell_type": "code",
   "execution_count": 3,
   "metadata": {
    "collapsed": false
   },
   "outputs": [],
   "source": [
    "cs10Spring_df = pd.read_csv('Data/CS10_Pre_Responses_Spring2015.csv') \n",
    "cs10Spring_pdf = pd.read_csv('Data/CS10_Post_Responses_Spring2015.csv')\n",
    "cs61a = pd.read_csv('Data/CS61A_Responses_Fall2014.csv')\n"
   ]
  },
  {
   "cell_type": "markdown",
   "metadata": {},
   "source": [
    "Update column names."
   ]
  },
  {
   "cell_type": "code",
   "execution_count": 4,
   "metadata": {
    "collapsed": false
   },
   "outputs": [
    {
     "name": "stdout",
     "output_type": "stream",
     "text": [
      "atcs_1 I like to use computer science to solve problems.\n",
      "atcs_2 I can learn to understand computing concepts.\n",
      "atcs_3 I can achieve good grades (C or better) in computing courses.\n",
      "atcs_4 I do not like using computer science to solve problems.\n",
      "atcs_5 I am confident that I can solve problems by using computation\n",
      "atcs_6 The challenge of solving problems using computer science appeals to me.\n",
      "atcs_7 I am comfortable with learning computing concepts.\n",
      "atcs_8 I am confident about my abilities with regards to computer science.\n",
      "atcs_9 I do think I can learn to understand computing concepts.\n",
      "atcsgender_1 Women are less capable of success in CS than men.\n",
      "atcsgender_2 Women are smarter than men.\n",
      "atcsgender_3 Men have better math and science abilities than women.\n",
      "atcsjob_1 Knowledge of computing will allow me to secure a good job.\n",
      "atcsjob_2 My career goals do not require that I learn computing skills.\n",
      "atct_1 I am good at solving a problem by thinking about similar problems I’ve solved before.\n",
      "atct_2 I have good research skills.\n",
      "atct_3 I am good at using online search tools.\n",
      "atct_4 I am persistent at solving puzzles or logic problems.\n",
      "atct_5 I know how to write computer programs\n",
      "atct_6 I am good at building things.\n",
      "atct_7 I’m good at ignoring irrelevant details to solve a problem.\n",
      "atct_8 I know how to write a computer program to solve a problem.\n",
      "blg_1 In this class, I feel I belong.\n",
      "blg_2 In this class, I feel awkward and out of place.\n",
      "blg_3 In this class, I feel like my ideas count.\n",
      "blg_4 In this class, I feel like I matter.\n",
      "classmtr Our class materials (e.g., case studies and projects) were relevant and practical.\n",
      "clet_1 I work well in teams.\n",
      "clet_2 I think about the ethical, legal, and social implications of computing.\n",
      "cltrcmp_1 I am comfortable interacting with peers from different backgrounds than my own (based on race, sexuality, income, and so on.)\n",
      "cltrcmp_2 I have good cultural competence, or the ability to interact effectively with people from diverse backgrounds.\n",
      "consent CONSENT If you agree to participate, please do so by clicking the \"I agree\" button on this survey.\n",
      "gender Could I please know your gender\n",
      "grade What grade do you think you will get in this class ?\n",
      "major Do you have a declared major?\n",
      "morecs Will you be taking any more CS classes (if so which ones?)\n",
      "mtr_1 Before I came to UC Berkeley, I knew people who have careers in Computer Science.\n",
      "mtr_2 There are people with careers in Computer Science who look like me.\n",
      "mtr_3 I have role models within the Computer Science field that look like me.\n",
      "name_1 It would really help make my research better if you could share you name with me.\n",
      "name_2 It would really help make my research better if you could share you name with me. .1\n",
      "prcs_1 Did you take a CS course in High School?\n",
      "prcs_2 Did you have any exposure to Computer Science before UC Berkeley?\n",
      "prcs_3 Did a family member introduce you to Computer Science?\n",
      "prcs_4 Did you have a close family member who is a Computer Scientist or is affiliated with computing industry?\n",
      "prcs_5 Did your high school offer AP CS?\n",
      "prepared How prepared did you feel about this class before it started?\n",
      "reason_class What is your reason for taking this class?\n",
      "snap_python I was able to see how computational thinking carries over from Snap! to python\n",
      "hiphop_d1 The hip-hop data module made me see how computation can enhance culture\n",
      "hiphop_d2 Lyrical analysis gave me a new way to think about computation\n",
      "song_ct I was able to build on my pre-existing knowledge about songs to further understand computation\n",
      "timestamp Timestamp\n",
      "\n",
      "\n"
     ]
    }
   ],
   "source": [
    "#Get the description of the column items\n",
    "dd = pd.read_csv('Data/Data_Describe.csv')\n",
    "dd.columns = ['dataDecription', 'dataKeys']\n",
    "dataDescription = {}\n",
    "\n",
    "for i, row in dd.iterrows():\n",
    "    print row.dataKeys, row.dataDecription\n",
    "    dataDescription[dd.dataKeys[i]] = dd.dataDecription[i]\n",
    "    \n",
    "print '\\n'\n",
    "del dataDescription['name_2']\n",
    "del dataDescription['name_1']\n",
    "del dataDescription['major']\n",
    "del dataDescription['morecs']\n",
    "del dataDescription['timestamp']\n",
    "del dataDescription['consent']\n",
    "del dataDescription['mtr_2']\n",
    "del dataDescription['mtr_3']\n",
    "del dataDescription['mtr_1']\n",
    "del dataDescription['prcs_3']\n",
    "del dataDescription['prcs_5']\n",
    "del dataDescription['prcs_4']\n",
    "del dataDescription['prcs_2']\n",
    "del dataDescription['prcs_1']\n",
    "del dataDescription['reason_class']\n",
    "del dataDescription['grade']\n",
    "del dataDescription['gender']\n",
    "del dataDescription['prepared']\n",
    "\n",
    "\n",
    "dataDescription['atct_1'] = 'I am good at solving a problem by thinking \\nabout similar problems I have solved before.'\n",
    "dataDescription['atct_7'] = 'I am good at ignoring irrelevant details to solve a problem.'\n",
    "dataDescription['cltrcmp_2'] = 'I have good cultural competence, or the ability to interact effectively \\n with people from diverse backgrounds.'\n"
   ]
  },
  {
   "cell_type": "code",
   "execution_count": 5,
   "metadata": {
    "collapsed": true
   },
   "outputs": [],
   "source": [
    "cs10Spring_df.columns = ['timestamp',\n",
    "'consent','gender','reason_class','major','atcs_1','atcsjob_1','atcs_2','atcsjob_2','atcsgender_1',\n",
    "'atcs_3','atcs_4','atcs_5','atcsgender_2','atcs_6','atcs_7','atcs_8','atcs_9','atcsgender_3',\n",
    "'atct_1','atct_2','atct_3','atct_4','atct_5','atct_6','atct_7','atct_8','clet_1','clet_2','grade',\n",
    "'mtr_1','mtr_2','mtr_3','blg_1','blg_2','blg_3','blg_4','cltrcmp_1',\n",
    "'cltrcmp_2','classmtr','prcs_1','prcs_2','prcs_3','prcs_4','prcs_5','prepared','morecs','name_1', 'name_2']\n"
   ]
  },
  {
   "cell_type": "code",
   "execution_count": 6,
   "metadata": {
    "collapsed": true
   },
   "outputs": [],
   "source": [
    "cs10Spring_pdf.columns = ['timestamp',\n",
    "'consent','gender','reason_class','major','atcs_1','atcsjob_1','atcs_2','atcsjob_2','atcsgender_1',\n",
    "'atcs_3','atcs_4','atcs_5','atcsgender_2','atcs_6','atcs_7','atcs_8','atcs_9','atcsgender_3',\n",
    "'atct_1','atct_2','atct_3','atct_4','atct_5','atct_6','atct_7','atct_8','clet_1','clet_2','grade',\n",
    "'mtr_1','mtr_2','mtr_3','blg_1','blg_2','blg_3','blg_4','cltrcmp_1',\n",
    "'cltrcmp_2','classmtr','prcs_1','prcs_2','prcs_3','prcs_4','prcs_5','prepared','morecs','name_1',\n",
    "                    'snap_python','hiphop_d1','hiphop_d2','song_ct']\n"
   ]
  },
  {
   "cell_type": "code",
   "execution_count": 7,
   "metadata": {
    "collapsed": true
   },
   "outputs": [],
   "source": [
    "cs61a.columns = ['timestamp','consent','gender',\n",
    "'reason_class','major','atcs_1','atcsjob_1','atcs_2','atcsjob_2','atcsgender_1','atcs_3','atcs_4',\n",
    "'atcs_5','atcsgender_2','atcs_6','atcs_7','atcs_8','atcs_9','atcsgender_3','atct_1',\n",
    "'atct_2','atct_3','atct_4','atct_5','atct_6','atct_7','atct_8','clet_1','clet_2','grade',\n",
    "'mtr_1','mtr_2','mtr_3','blg_1','blg_2','blg_3','blg_4','cltrcmp_1','cltrcmp_2','classmtr',\n",
    "'prcs_1','prcs_2','prcs_3','prcs_4','prcs_5','prepared','morecs','priorcs10','name']\n"
   ]
  },
  {
   "cell_type": "markdown",
   "metadata": {},
   "source": [
    "Lets go ahead and filter out missing data.\n",
    "\n",
    "If the consent value is **\"I disagree\"**, then drop that row from the data set."
   ]
  },
  {
   "cell_type": "code",
   "execution_count": 8,
   "metadata": {
    "collapsed": true
   },
   "outputs": [],
   "source": [
    "cs61a = cs61a[cs61a.consent == 'I agree']\n",
    "cs10Spring_df = cs10Spring_df[cs10Spring_df.consent == 'I agree']\n",
    "cs10Spring_pdf = cs10Spring_pdf[cs10Spring_pdf.consent == 'I agree']\n"
   ]
  },
  {
   "cell_type": "code",
   "execution_count": 9,
   "metadata": {
    "collapsed": true
   },
   "outputs": [],
   "source": [
    "# Add all the data from CS10 together since I am not doing before and after \n",
    "\n",
    "frames = [cs10Spring_df, cs10Spring_pdf]\n",
    "cs10 = pd.concat(frames, keys=['pre', 'post'])\n"
   ]
  },
  {
   "cell_type": "markdown",
   "metadata": {},
   "source": [
    "Lets filter out the data based on gender"
   ]
  },
  {
   "cell_type": "code",
   "execution_count": 10,
   "metadata": {
    "collapsed": false
   },
   "outputs": [
    {
     "name": "stdout",
     "output_type": "stream",
     "text": [
      "170 male students, and 217 female students consented to participate in the research CS10\n",
      "324 male students, and 171 female students consented to participate in the research CS61A\n"
     ]
    }
   ],
   "source": [
    "cs10_female = cs10[cs10.gender == 'Female']\n",
    "cs10_male = cs10[cs10.gender == 'Male']\n",
    "cs10_female = cs10_female.reset_index(drop=True)\n",
    "cs10_male = cs10_male.reset_index(drop=True)\n",
    "\n",
    "\n",
    "cs61a_female = cs61a[cs61a.gender == 'Female']\n",
    "cs61a_male = cs61a[cs61a.gender == 'Male']\n",
    "cs61a_female = cs61a_female.reset_index(drop=True)\n",
    "cs61a_male = cs61a_male.reset_index(drop=True)\n",
    "\n",
    "print ('%d male students, and %d female students consented to participate in the research CS10' \n",
    "       % (len(cs10_male), len(cs10_female)))\n",
    "print ('%d male students, and %d female students consented to participate in the research CS61A' \n",
    "       % (len(cs61a_male), len(cs61a_female)))\n",
    "\n"
   ]
  },
  {
   "cell_type": "markdown",
   "metadata": {},
   "source": [
    "Create the dimension that we are interested in investigating."
   ]
  },
  {
   "cell_type": "code",
   "execution_count": 11,
   "metadata": {
    "collapsed": true
   },
   "outputs": [],
   "source": [
    "atcs = ['atcs_1', 'atcs_2', 'atcs_3', 'atcs_4', 'atcs_5', \n",
    "        'atcs_6', 'atcs_7', 'atcs_8', 'atcs_9']# self reported attitude about CS competency\n",
    "atcsgender = ['atcsgender_1', 'atcsgender_2', 'atcsgender_3'] \n",
    "atcsjob = ['atcsjob_1', 'atcsjob_2'] \n",
    "atct = ['atct_1', 'atct_2', 'atct_3', 'atct_4', \n",
    "        'atct_5', 'atct_6', 'atct_7', 'atct_8'] # Self reported attitudes about computational thinking\n",
    "blg = ['blg_1', 'blg_2', 'blg_3', 'blg_4'] # Sense of belonging in the class room\n",
    "clet = ['clet_1', 'clet_2'] # Social implications and ethics\n",
    "cltrcmp = ['cltrcmp_1', 'cltrcmp_2'] # Culutral competency\n",
    "mtr = ['mtr_1', 'mtr_2', 'mtr_3'] # CS Mentors\n",
    "prcs = ['prcs_1', 'prcs_2', 'prcs_3', 'prcs_4', 'prcs_5'] # Prior CS Exposure\n",
    "gender = 'gender'\n",
    "major = 'major'\n",
    "priorcs10 = 'priorcs10' # had taken CS10 prior\n",
    "\n"
   ]
  },
  {
   "cell_type": "code",
   "execution_count": 12,
   "metadata": {
    "collapsed": false
   },
   "outputs": [
    {
     "name": "stdout",
     "output_type": "stream",
     "text": [
      "There are 85 women without prior CS exposure who are taking 61a\n",
      "There are 101 men without prior CS exposure who are taking 61a\n",
      "\n",
      "There are 172 women without prior CS exposure who are taking cs10\n",
      "There are 122 men without prior CS exposure who are taking cs10\n",
      "\n",
      "There are 480 students without prior CS exposure in this study\n",
      "\n",
      "women total 257 \n",
      "\n",
      "men total 223 \n",
      "\n"
     ]
    }
   ],
   "source": [
    "# get students from 61a who have had no prior cs experience\n",
    "\n",
    "# prcs_2: Did you have any exposure to Computer Science before UC Berkeley?\n",
    "cs61a_NO_CS = cs61a[cs61a.prcs_2 == 'No']\n",
    "cs10_NO_CS = cs10[cs10.prcs_2 == 'No']\n",
    "\n",
    "\n",
    "\n",
    "\n",
    "cs61a_NO_CS_female = cs61a_female[cs61a_female.prcs_2 == 'No']\n",
    "print 'There are %d women without prior CS exposure who are taking 61a' % cs61a_NO_CS_female.prcs_2.value_counts()\n",
    "cs61a_NO_CS_male = cs61a_male[cs61a_male.prcs_2 == 'No']\n",
    "print 'There are %d men without prior CS exposure who are taking 61a\\n' % cs61a_NO_CS_male.prcs_2.value_counts()\n",
    "\n",
    "\n",
    "cs10_NO_CS_female = cs10_female[cs10_female.prcs_2 == 'No']\n",
    "print'There are %d women without prior CS exposure who are taking cs10' % cs10_NO_CS_female.prcs_2.value_counts()\n",
    "cs10_NO_CS_male = cs10_male[cs10_male.prcs_2 == 'No']\n",
    "print'There are %d men without prior CS exposure who are taking cs10\\n' % cs10_NO_CS_male.prcs_2.value_counts()\n",
    "\n",
    "print ('There are %d students without prior CS exposure in this study\\n' \n",
    "% ((cs61a_NO_CS_male.prcs_2.value_counts()+cs10_NO_CS_male.prcs_2.value_counts()) \\\n",
    "   + (cs61a_NO_CS_female.prcs_2.value_counts()+cs10_NO_CS_female.prcs_2.value_counts())))\n",
    "\n",
    "print 'women total %d \\n' % (cs61a_NO_CS_female.prcs_2.value_counts()+cs10_NO_CS_female.prcs_2.value_counts())\n",
    "print 'men total %d \\n' % (cs61a_NO_CS_male.prcs_2.value_counts()+cs10_NO_CS_male.prcs_2.value_counts())\n"
   ]
  },
  {
   "cell_type": "code",
   "execution_count": 13,
   "metadata": {
    "collapsed": false
   },
   "outputs": [
    {
     "name": "stdout",
     "output_type": "stream",
     "text": [
      "There are 45 women WITH prior CS exposure who are taking cs10\n",
      "There are 48 men WITH prior CS exposure who are taking cs10\n",
      "\n",
      "There are 86 women WITH prior CS exposure who are taking 61a\n",
      "There are 223 men WITH prior CS exposure who are taking 61a\n",
      "\n",
      "There are 402 students WITH prior CS exposure in this study\n",
      "\n",
      "women total 131 \n",
      "\n",
      "men total 271 \n",
      "\n"
     ]
    }
   ],
   "source": [
    "# get students from 61a who have had prior cs experience\n",
    "# prcs_2: Did you have any exposure to Computer Science before UC Berkeley?\n",
    "cs61a_CS = cs61a[cs61a.prcs_2 == 'Yes']\n",
    "cs10_CS = cs10[cs10.prcs_2 == 'Yes']\n",
    "\n",
    "cs10_CS_female = cs10_female[cs10_female.prcs_2 == 'Yes']\n",
    "print'There are %d women WITH prior CS exposure who are taking cs10' % cs10_CS_female.prcs_2.value_counts()\n",
    "cs10_CS_male = cs10_male[cs10_male.prcs_2 == 'Yes']\n",
    "print'There are %d men WITH prior CS exposure who are taking cs10\\n' % cs10_CS_male.prcs_2.value_counts()\n",
    "\n",
    "cs61a_CS_female = cs61a_female[cs61a_female.prcs_2 == 'Yes']\n",
    "print 'There are %d women WITH prior CS exposure who are taking 61a' % cs61a_CS_female.prcs_2.value_counts()\n",
    "cs61a_CS_male = cs61a_male[cs61a_male.prcs_2 == 'Yes']\n",
    "print 'There are %d men WITH prior CS exposure who are taking 61a\\n' % cs61a_CS_male.prcs_2.value_counts()\n",
    "\n",
    "\n",
    "print ('There are %d students WITH prior CS exposure in this study\\n' % \n",
    "((cs61a_CS_male.prcs_2.value_counts()+cs10_CS_male.prcs_2.value_counts()) \\\n",
    " + (cs61a_CS_female.prcs_2.value_counts()+cs10_CS_female.prcs_2.value_counts())))\n",
    "\n",
    "print 'women total %d \\n' % (cs61a_CS_female.prcs_2.value_counts()+cs10_CS_female.prcs_2.value_counts())\n",
    "print 'men total %d \\n' % (cs61a_CS_male.prcs_2.value_counts()+cs10_CS_male.prcs_2.value_counts())\n"
   ]
  },
  {
   "cell_type": "code",
   "execution_count": 14,
   "metadata": {
    "collapsed": false
   },
   "outputs": [
    {
     "name": "stdout",
     "output_type": "stream",
     "text": [
      "P value is: 0.00000, with a z statistic of 136551.00000\n",
      "****\n"
     ]
    }
   ],
   "source": [
    "# Test for statistical signifance\n",
    "# Use non-parametric alternative to the t-test Mann-Whitney U test because we have ordinal data.\n",
    "# Likert scale is ordinal and not normally distributed\n",
    "# And I can use Mann Whitney to compare unequal sample size.\n",
    "\n",
    "import scipy.stats\n",
    "z, p = scipy.stats.mannwhitneyu(cs61a.atct_5.values, cs10.atct_5.values)\n",
    "                                                   \n",
    "# We should usually use a two-tailed test because we have no a priori about \n",
    "# one treatment being better than the other. \n",
    "# We should therefore multiply p by two to obtain the p-value:\n",
    "p_value = p * 2\n",
    "\n",
    "print 'P value is: %.5f, with a z statistic of %.5f'% (p_value, z)\n",
    "\n",
    "s = myHelper.stars(p)\n",
    "\n",
    "print s\n",
    "# A low P value suggests that your sample provides enough evidence \n",
    "# that you can reject the null hypothesis for the entire population.\n",
    "# http://blog.minitab.com/blog/adventures-in-statistics/how-to-correctly-interpret-p-values\n"
   ]
  },
  {
   "cell_type": "code",
   "execution_count": 15,
   "metadata": {
    "collapsed": true
   },
   "outputs": [],
   "source": [
    "def genPValues(itemDimension, theCategory):\n",
    "    \n",
    "    #import scipy.stats\n",
    "    temp =[]\n",
    "    for key in itemDimension:\n",
    "        CS10Temp = []   \n",
    "        CS10Temp.append('cs10'+theCategory+'.'+key+'.values')\n",
    "        CS61aTemp = []\n",
    "        CS61aTemp.append('cs61a'+theCategory+'.'+key+'.values')\n",
    "\n",
    "        CS10FemaleTemp = []\n",
    "        CS10FemaleTemp.append('cs10'+theCategory+'_female'+'.'+key+'.values')\n",
    "        CS61aFemaleTemp = []\n",
    "        CS61aFemaleTemp.append('cs61a'+theCategory+'_female'+'.'+key+'.values')\n",
    "        \n",
    "        CS10MaleTemp = []\n",
    "        CS10MaleTemp.append('cs10'+theCategory+'_male'+'.'+key+'.values')\n",
    "        CS61aMaleTemp = []\n",
    "        CS61aMaleTemp.append('cs61a'+theCategory+'_male'+'.'+key+'.values')\n",
    "        \n",
    "    \n",
    "        z1, p1 = scipy.stats.mannwhitneyu(eval(CS10Temp[0]),eval(CS61aTemp[0])) \n",
    "        p_value1 = p1 * 2\n",
    "        \n",
    "        z2, p2 = scipy.stats.mannwhitneyu(eval(CS10FemaleTemp[0]),eval(CS61aFemaleTemp[0])) \n",
    "        p_value2 = p2 * 2\n",
    "        \n",
    "        z3, p3 = scipy.stats.mannwhitneyu(eval(CS10MaleTemp[0]),eval(CS61aMaleTemp[0])) \n",
    "        p_value3 = p3 * 2\n",
    "\n",
    "        s1 = myHelper.stars(p1)\n",
    "        s2 = myHelper.stars(p2)\n",
    "        s3 = myHelper.stars(p3)\n",
    "        \n",
    "        print 'Test for significance between CS10 and CS61A\\n'\n",
    "        print key, '\\t', dataDescription[key]\n",
    "        if p_value1 < 0.05:\n",
    "            print 'Class', '\\t', '%.8f' % p_value1, '\\t', 'Statistically Significant:',s1 \n",
    "        if p_value2 < 0.05:\n",
    "            print 'Female', '\\t', '%.8f' % p_value2, '\\t', 'Statistically Significant:', s2\n",
    "        if p_value3 < 0.05:\n",
    "            print 'Male', '\\t', '%.8f' % p_value3, '\\t', 'Statistically Significant:', s3\n",
    "        print '\\n'\n",
    "       "
   ]
  },
  {
   "cell_type": "code",
   "execution_count": 16,
   "metadata": {
    "collapsed": false
   },
   "outputs": [],
   "source": [
    "'''\n",
    "I am using this function to test for statistical significance between students with prior exposure \n",
    "and students without prior exposure\n",
    "\n",
    "''' \n",
    "def genPValues_2(itemDimension):\n",
    "    \n",
    "    temp =[]\n",
    "    for key in itemDimension:\n",
    "        CS10_CS_Temp = []   \n",
    "        CS10_CS_Temp.append('cs10_CS'+'.'+key+'.values')\n",
    "        CS61a_CS_Temp = []\n",
    "        CS61a_CS_Temp.append('cs61a_CS'+'.'+key+'.values')\n",
    "        \n",
    "        CS10_NO_CS_Temp = []   \n",
    "        CS10_NO_CS_Temp.append('cs10_NO_CS'+'.'+key+'.values')\n",
    "        CS61a_NO_CS_Temp = []\n",
    "        CS61a_NO_CS_Temp.append('cs61a_NO_CS'+'.'+key+'.values')\n",
    "        \n",
    "        CS10_CS_FemaleTemp = []\n",
    "        CS10_CS_FemaleTemp.append('cs10_CS_female'+'.'+key+'.values')\n",
    "        CS61a_CS_FemaleTemp = []\n",
    "        CS61a_CS_FemaleTemp.append('cs61a_CS_female'+'.'+key+'.values')\n",
    "        \n",
    "        CS10_NO_CS_FemaleTemp = []\n",
    "        CS10_NO_CS_FemaleTemp.append('cs10_NO_CS_female'+'.'+key+'.values')\n",
    "        CS61a_NO_CS_FemaleTemp = []\n",
    "        CS61a_NO_CS_FemaleTemp.append('cs61a_NO_CS_female'+'.'+key+'.values')\n",
    "        \n",
    "        CS10_CS_MaleTemp = []\n",
    "        CS10_CS_MaleTemp.append('cs10_CS_male'+'.'+key+'.values')\n",
    "        CS61a_CS_MaleTemp = []\n",
    "        CS61a_CS_MaleTemp.append('cs61a_CS_male'+'.'+key+'.values')\n",
    "        \n",
    "        CS10_NO_CS_MaleTemp = []\n",
    "        CS10_NO_CS_MaleTemp.append('cs10_NO_CS_male'+'.'+key+'.values')\n",
    "        CS61a_NO_CS_MaleTemp = []\n",
    "        CS61a_NO_CS_MaleTemp.append('cs61a_NO_CS_male'+'.'+key+'.values')\n",
    "    \n",
    "        z_CS, p_CS = scipy.stats.mannwhitneyu(eval(CS10_CS_Temp[0]),eval(CS61a_CS_Temp[0])) \n",
    "        p_value1 = p_CS * 2\n",
    "        z_NO_CS, p_NO_CS = scipy.stats.mannwhitneyu(eval(CS10_NO_CS_Temp[0]),eval(CS61a_NO_CS_Temp[0])) \n",
    "        p_value2 = p_NO_CS * 2\n",
    "        \n",
    "        z_CSfemale, p_CSfemale = scipy.stats.mannwhitneyu(eval(CS10_CS_FemaleTemp[0]),\n",
    "                                                          eval(CS61a_CS_FemaleTemp[0])) \n",
    "        p_value3 = p_CSfemale * 2\n",
    "        z_NO_CSfemale, p_NO_CSfemale = scipy.stats.mannwhitneyu(eval(CS10_NO_CS_FemaleTemp[0]),\n",
    "                                                                eval(CS61a_NO_CS_FemaleTemp[0])) \n",
    "        p_value4 = p_NO_CSfemale * 2\n",
    "        \n",
    "        z_CSmale, p_CSmale = scipy.stats.mannwhitneyu(eval(CS10_CS_MaleTemp[0]),\n",
    "                                                      eval(CS61a_CS_MaleTemp[0])) \n",
    "        p_value5 = p_CSmale * 2\n",
    "        z_NO_CSmale, p_NO_CSmale = scipy.stats.mannwhitneyu(eval(CS10_NO_CS_MaleTemp[0]),\n",
    "                                                            eval(CS61a_NO_CS_MaleTemp[0])) \n",
    "        p_value6 = p_NO_CSmale * 2\n",
    "    \n",
    "\n",
    "        s1 = myHelper.stars(p_CS)\n",
    "        s2 = myHelper.stars(p_NO_CS)\n",
    "        s3 = myHelper.stars(p_CSfemale)\n",
    "        s4 = myHelper.stars(p_NO_CSfemale)\n",
    "        s5 = myHelper.stars(p_CSmale)\n",
    "        s6 = myHelper.stars(p_NO_CSmale)\n",
    "        \n",
    "        \n",
    "       \n",
    "        print 'Test for significance between CS10 and CS61A\\n'\n",
    "        print key, '\\t', dataDescription[key]\n",
    "        if p_value1 < 0.05:\n",
    "            print 'Prior CS Class', '\\t', '%.5f' % p_value1, '\\t', 'Statistically Significant:',s1 \n",
    "        if p_value2 < 0.05:   \n",
    "            print 'NoPrior CS Class', '\\t', '%.5f' % p_value2, '\\t', 'Statistically Significant:', s2\n",
    "        if p_value3 < 0.05:\n",
    "            print 'Prior CS Female', '\\t', '%.5f' % p_value3, '\\t', 'Statistically Significant:', s3\n",
    "        if p_value4 < 0.05:\n",
    "            print 'No Prior CS Female', '\\t', '%.5f' % p_value4, '\\t', 'Statistically Significant:', s4\n",
    "        if p_value5 < 0.05:\n",
    "            print 'Prior CS Male', '\\t', '%.5f' % p_value5, '\\t', 'Statistically Significant:', s5\n",
    "        if p_value6 < 0.05:\n",
    "            print 'No Prior CS Male', '\\t', '%.5f' % p_value6, '\\t', 'Statistically Significant:', s6\n",
    "        print '\\n'\n",
    "       "
   ]
  },
  {
   "cell_type": "code",
   "execution_count": 17,
   "metadata": {
    "collapsed": false
   },
   "outputs": [
    {
     "name": "stdout",
     "output_type": "stream",
     "text": [
      "There are 45 women WITH prior CS exposure who are taking cs10\n"
     ]
    }
   ],
   "source": [
    "print'There are %d women WITH prior CS exposure who are taking cs10' % cs10_CS_female.prcs_2.value_counts()"
   ]
  },
  {
   "cell_type": "code",
   "execution_count": 18,
   "metadata": {
    "collapsed": false
   },
   "outputs": [],
   "source": [
    "df = cs10_CS_female[[\n",
    "        'atcs_1', 'atcs_2', 'atcs_3', 'atcs_4', 'atcs_5', 'atcs_6', 'atcs_7', 'atcs_8', 'atcs_9',\n",
    "         'snap_python','hiphop_d1','hiphop_d2','song_ct',\n",
    "         'atct_3', 'atct_4', 'atct_5', 'atct_8'       \n",
    "    ]]"
   ]
  },
  {
   "cell_type": "code",
   "execution_count": 19,
   "metadata": {
    "collapsed": false,
    "scrolled": false
   },
   "outputs": [
    {
     "name": "stdout",
     "output_type": "stream",
     "text": [
      "Test for significance between CS10 and CS61A\n",
      "\n",
      "blg_1 \tIn this class, I feel I belong.\n",
      "Female \t0.02153060 \tStatistically Significant: *\n",
      "\n",
      "\n",
      "Test for significance between CS10 and CS61A\n",
      "\n",
      "blg_2 \tIn this class, I feel awkward and out of place.\n",
      "\n",
      "\n",
      "Test for significance between CS10 and CS61A\n",
      "\n",
      "blg_3 \tIn this class, I feel like my ideas count.\n",
      "Class \t0.00001109 \tStatistically Significant: ****\n",
      "Female \t0.00000106 \tStatistically Significant: ****\n",
      "Male \t0.00600122 \tStatistically Significant: **\n",
      "\n",
      "\n",
      "Test for significance between CS10 and CS61A\n",
      "\n",
      "blg_4 \tIn this class, I feel like I matter.\n",
      "Class \t0.00000073 \tStatistically Significant: ****\n",
      "Female \t0.00000141 \tStatistically Significant: ****\n",
      "Male \t0.00074444 \tStatistically Significant: ***\n",
      "\n",
      "\n"
     ]
    }
   ],
   "source": [
    "# Test for statistical significance between students in CS10 and CS61a\n",
    "\n",
    "#genPValues(atcs, '')\n",
    "#genPValues(atcsgender, '')\n",
    "#genPValues(atct,'')\n",
    "#genPValues(clet,'')\n",
    "#genPValues(cltrcmp,'')\n",
    "genPValues(blg,'')"
   ]
  },
  {
   "cell_type": "code",
   "execution_count": 20,
   "metadata": {
    "collapsed": false,
    "scrolled": false
   },
   "outputs": [
    {
     "name": "stdout",
     "output_type": "stream",
     "text": [
      "Test for significance between CS10 and CS61A\n",
      "\n",
      "blg_1 \tIn this class, I feel I belong.\n",
      "NoPrior CS Class \t0.00046 \tStatistically Significant: ***\n",
      "No Prior CS Female \t0.00209 \tStatistically Significant: **\n",
      "No Prior CS Male \t0.01510 \tStatistically Significant: **\n",
      "\n",
      "\n",
      "Test for significance between CS10 and CS61A\n",
      "\n",
      "blg_2 \tIn this class, I feel awkward and out of place.\n",
      "NoPrior CS Class \t0.01472 \tStatistically Significant: **\n",
      "No Prior CS Female \t0.02550 \tStatistically Significant: *\n",
      "\n",
      "\n",
      "Test for significance between CS10 and CS61A\n",
      "\n",
      "blg_3 \tIn this class, I feel like my ideas count.\n",
      "Prior CS Class \t0.00786 \tStatistically Significant: **\n",
      "NoPrior CS Class \t0.00001 \tStatistically Significant: ****\n",
      "Prior CS Female \t0.00048 \tStatistically Significant: ***\n",
      "No Prior CS Female \t0.00057 \tStatistically Significant: ***\n",
      "No Prior CS Male \t0.00099 \tStatistically Significant: ***\n",
      "\n",
      "\n",
      "Test for significance between CS10 and CS61A\n",
      "\n",
      "blg_4 \tIn this class, I feel like I matter.\n",
      "Prior CS Class \t0.01432 \tStatistically Significant: **\n",
      "NoPrior CS Class \t0.00000 \tStatistically Significant: ****\n",
      "Prior CS Female \t0.00242 \tStatistically Significant: **\n",
      "No Prior CS Female \t0.00027 \tStatistically Significant: ***\n",
      "No Prior CS Male \t0.00005 \tStatistically Significant: ****\n",
      "\n",
      "\n"
     ]
    }
   ],
   "source": [
    "# Test for statistical significance between students with prior exposure and students \n",
    "# without prior exposure\n",
    "\n",
    "#genPValues_2(atcs)\n",
    "#genPValues_2(atcsgender)\n",
    "#genPValues_2(atct)\n",
    "#genPValues_2(clet)\n",
    "#genPValues_2(cltrcmp)\n",
    "genPValues_2(blg)"
   ]
  },
  {
   "cell_type": "code",
   "execution_count": 21,
   "metadata": {
    "collapsed": false,
    "scrolled": false
   },
   "outputs": [
    {
     "data": {
      "image/png": "[encoded data removed]",
      "text/plain": [
       "<matplotlib.figure.Figure at 0x116517d90>"
      ]
     },
     "metadata": {},
     "output_type": "display_data"
    }
   ],
   "source": [
    "myFileName='Figures' + '/' + 'cs10_CS_female_DATA.pdf'\n",
    "myHelper.plot_corr(df, myFileName, 8)"
   ]
  },
  {
   "cell_type": "code",
   "execution_count": 22,
   "metadata": {
    "collapsed": false
   },
   "outputs": [
    {
     "name": "stdout",
     "output_type": "stream",
     "text": [
      "I know how to write computer programs\n",
      "0.77585\n"
     ]
    }
   ],
   "source": [
    "print dataDescription['atct_5']\n",
    "print \"%.5f\" % (df['song_ct'].corr(df['atct_5']))"
   ]
  },
  {
   "cell_type": "code",
   "execution_count": 23,
   "metadata": {
    "collapsed": false
   },
   "outputs": [],
   "source": [
    "theCategory = '_NO_CS'\n",
    "theXLabel = '   '\n",
    "itemDimension = ['blg_1', 'blg_2', 'blg_3', 'blg_4']\n",
    "\n",
    "\n",
    "def getPlotDimensions(key, attr, theCategory):\n",
    "    '''Function gets two arrays of datapoints.\n",
    "\n",
    "    Input:\n",
    "        key: a string for an instrument like 'blg_1'\n",
    "        attr: '_male', '_female', or ''\n",
    "        theCategory: a string that takes the following values ['_NO_CS', '_CS', '']\n",
    "        \n",
    "    Output: \n",
    "        x0: datapoints to be plotted represent cs10 information for the dimension and category\n",
    "        x1: ditto cs61a\n",
    "    '''\n",
    "    \n",
    "    temp = []\n",
    "    \n",
    "    temp.append('cs10'+theCategory+attr+'.'+key+'.value_counts()')\n",
    "    a = eval(temp[0])\n",
    "    myHelper.scaleData(a)\n",
    "    x0 = myHelper.turnArray(a)\n",
    "    temp = []\n",
    "        \n",
    "    temp.append('cs61a'+theCategory+attr+'.'+key+'.value_counts()')\n",
    "    b = eval(temp[0])\n",
    "    myHelper.scaleData(b)\n",
    "    x1 = myHelper.turnArray(b)\n",
    "    temp = []\n",
    "        \n",
    "    return x0, x1\n",
    "\n"
   ]
  },
  {
   "cell_type": "code",
   "execution_count": 24,
   "metadata": {
    "collapsed": false,
    "scrolled": false
   },
   "outputs": [],
   "source": [
    "# For the No prior CS Experience cohort\n",
    "\n",
    "theCategory = '_NO_CS'\n",
    "theXLabel = '   '\n",
    "itemDimension = ['blg_1', 'blg_2', 'blg_3', 'blg_4']\n",
    "attr = '_female' # the other value _male\n",
    "\n",
    "\n",
    "def createThePlots(itemDimension, myFileName, theCategory,attr,theXLabel):\n",
    "    \n",
    "    for i in range(len(itemDimension)):\n",
    "        \n",
    "    \n",
    "        x0, x1 = getPlotDimensions(itemDimension[i], attr, theCategory)\n",
    "        myHelper.genFigure(itemDimension[i], myFileName, theCategory, theXLabel, \n",
    "                           x0, x1, dataDescription[itemDimension[i]])\n",
    "        \n",
    "\n",
    "def createTheGenderPlots(itemDimension, myFileName, theCategory, genderAttr, theXLabel):\n",
    "    \n",
    "    for i in range(len(itemDimension)):\n",
    "    \n",
    "        x0, x1 = getPlotDimensions(itemDimension[i], genderAttr, theCategory)\n",
    "        myHelper.genGenderFigure(itemDimension[i], myFileName, theCategory, genderAttr, theXLabel, \n",
    "                                 x0, x1, dataDescription[itemDimension[i]])\n"
   ]
  },
  {
   "cell_type": "code",
   "execution_count": 30,
   "metadata": {
    "collapsed": false,
    "scrolled": false
   },
   "outputs": [
    {
     "data": {
      "image/png": "[encoded data removed]",
      "text/plain": [
       "<matplotlib.figure.Figure at 0x119f670d0>"
      ]
     },
     "metadata": {},
     "output_type": "display_data"
    },
    {
     "data": {
      "image/png": "[encoded data removed]",
      "text/plain": [
       "<matplotlib.figure.Figure at 0x1189dcd50>"
      ]
     },
     "metadata": {},
     "output_type": "display_data"
    },
    {
     "data": {
      "image/png": "[encoded data removed]",
      "text/plain": [
       "<matplotlib.figure.Figure at 0x11a6c07d0>"
      ]
     },
     "metadata": {},
     "output_type": "display_data"
    }
   ],
   "source": [
    "theCategory = '_NO_CS'\n",
    "theXLabel = '   '\n",
    "genderAttr = ''\n",
    "cohort = 'cs10'\n",
    "\n",
    "myFileName = 'Figures' + '/' + theCategory + genderAttr + '.pdf'\n",
    "\n",
    "\n",
    "\n",
    "\n",
    "#createThePlots(blg,theCategory, theXLabel)\n",
    "#createThePlots(clet, theCategory, theXLabel)\n",
    "#createThePlots(cltrcmp, theCategory, theXLabel)\n",
    "#createThePlots(atcs, theCategory, theXLabel)\n",
    "createThePlots(atcsgender, myFileName, theCategory, genderAttr, theXLabel)\n",
    "#createThePlots(atct, theCategory, theXLabel)\n"
   ]
  },
  {
   "cell_type": "code",
   "execution_count": 26,
   "metadata": {
    "collapsed": false
   },
   "outputs": [
    {
     "data": {
      "image/png": "[encoded data removed]",
      "text/plain": [
       "<matplotlib.figure.Figure at 0x119cc3c10>"
      ]
     },
     "metadata": {},
     "output_type": "display_data"
    },
    {
     "data": {
      "image/png": "[encoded data removed]",
      "text/plain": [
       "<matplotlib.figure.Figure at 0x11a560b50>"
      ]
     },
     "metadata": {},
     "output_type": "display_data"
    },
    {
     "data": {
      "image/png": "[encoded data removed]",
      "text/plain": [
       "<matplotlib.figure.Figure at 0x11a682d50>"
      ]
     },
     "metadata": {},
     "output_type": "display_data"
    }
   ],
   "source": [
    "theCategory = '_NO_CS'\n",
    "theXLabel = '   '\n",
    "genderAttr = '_female' # the other value _male\n",
    "cohort = 'cs10'\n",
    "\n",
    "myFileName = 'Figures' + '/' + cohort + theCategory + genderAttr + '.pdf'\n",
    "\n",
    "createTheGenderPlots(atcsgender,myFileName,theCategory,genderAttr,theXLabel)"
   ]
  },
  {
   "cell_type": "code",
   "execution_count": 27,
   "metadata": {
    "collapsed": false
   },
   "outputs": [],
   "source": [
    "theCategory = '_CS'\n",
    "theXLabel = '   '\n",
    "\n",
    "#createThePlots(blg, theCategory, theXLabel)\n",
    "#createThePlots(clet, theCategory, theXLabel)\n",
    "#createThePlots(cltrcmp, theCategory, theXLabel)\n",
    "#createThePlots(atcs, theCategory, theXLabel)\n",
    "#createThePlots(atcsgender, theCategory, theXLabel)\n",
    "#createThePlots(atct, theCategory, theXLabel)"
   ]
  },
  {
   "cell_type": "code",
   "execution_count": 28,
   "metadata": {
    "collapsed": false
   },
   "outputs": [
    {
     "name": "stdout",
     "output_type": "stream",
     "text": [
      "The standard deviation for CS10 males with prior CS is 0.835547\n",
      "The standard deviation for CS61a males with prior CS is 0.817016\n",
      "The standard deviation for CS10 males with NO prior CS is 0.914144\n",
      "The standard deviation for CS61a males with NO prior CS is 1.054739\n",
      "\n",
      "The standard deviation for CS10 females with prior CS is 0.980620\n",
      "The standard deviation for CS61a females with prior CS is 1.025529\n",
      "The standard deviation for CS10 females with NO prior CS is 1.022393\n",
      "The standard deviation for CS61a males with NO prior CS is 1.187352\n",
      "\n"
     ]
    }
   ],
   "source": [
    "print \"The standard deviation for CS10 males with prior CS is %f\"%cs10_CS_male['atcs_5'].std()\n",
    "print \"The standard deviation for CS61a males with prior CS is %f\"%cs61a_CS_male['atcs_5'].std()\n",
    "print \"The standard deviation for CS10 males with NO prior CS is %f\"%cs10_NO_CS_male['atcs_5'].std()\n",
    "print \"The standard deviation for CS61a males with NO prior CS is %f\\n\"%cs61a_NO_CS_male['atcs_5'].std()\n",
    "\n",
    "print \"The standard deviation for CS10 females with prior CS is %f\"%cs10_CS_female['atcs_5'].std()\n",
    "print \"The standard deviation for CS61a females with prior CS is %f\"%cs61a_CS_female['atcs_5'].std()\n",
    "print \"The standard deviation for CS10 females with NO prior CS is %f\"%cs10_NO_CS_female['atcs_5'].std()\n",
    "print \"The standard deviation for CS61a males with NO prior CS is %f\\n\"%cs61a_NO_CS_female['atcs_5'].std()"
   ]
  },
  {
   "cell_type": "code",
   "execution_count": null,
   "metadata": {
    "collapsed": false
   },
   "outputs": [],
   "source": [
    "N = 3\n",
    "CS10_CS_female = (27, 40, 34)\n",
    "CS61A_CS_female = (9, 22, 66)\n",
    "CS10_NO_CS_female = (41, 36, 21)\n",
    "CS61A_NO_CS_female = (37, 34, 27)\n",
    "\n",
    "\n",
    "ind = np.arange(N)  # the x locations for the groups\n",
    "width = 0.35       # the width of the bars\n",
    "\n",
    "#update params figure size to accomodate 2 figures\n",
    "params['figure.figsize'] = [6.5, 4.5]\n",
    "fig = figure(dpi=80) # no frame\n",
    "ax0 = fig.add_subplot(111)\n",
    "\n",
    "rects1 = ax0.bar(ind, CS10_CS_female, width, color=colors_1[2])\n",
    "rects2 = ax0.bar(ind+width, CS61A_CS_female, width, color=colors_2[0])\n",
    "\n",
    "# change xlim to set_xlim\n",
    "#ax0.set_xlim(plot_params['xmin_gen'], plot_params['xmax_gen'])\n",
    "ax0.set_ylim(0, 100)\n",
    "\n",
    "#change xticks to set_xticks\n",
    "ax0.set_xticks(ind+width)\n",
    "ax0.set_xticklabels( ('Negatively', 'Neutral', 'Positively') )\n",
    "ax0.set_yticks(np.arange(0, 100+10, 10))\n",
    "legend = ax0.legend( (rects1[0], rects2[0]), ('CS10 Female', 'CS61A Female') , loc=9);\n",
    "ax0.set_ylabel('Scores')\n",
    "ax0.legend(loc=9)\n",
    "ax0.margins(0.1)\n",
    "\n",
    "ax0.set_title(\"I know how to write computer programs.\\n\")\n",
    "\n",
    "\n",
    "def autolabel(rects):\n",
    "    # attach some text labels\n",
    "    for rect in rects:\n",
    "        height = rect.get_height()\n",
    "        ax0.text(rect.get_x()+rect.get_width()/2., 1.05*height, '%d%%'%int(height),\n",
    "                ha='center', va='bottom')\n",
    "\n",
    "autolabel(rects1)\n",
    "autolabel(rects2)\n",
    "\n",
    "plt.show()\n",
    "\n",
    "fileName = []\n",
    "fileName.append('atct_53_female_CS.pdf')\n",
    "fig.savefig(fileName[0], dpi=72)\n",
    "rcParams.update(params)"
   ]
  },
  {
   "cell_type": "code",
   "execution_count": null,
   "metadata": {
    "collapsed": false
   },
   "outputs": [],
   "source": [
    "#Worst Case Scenario\n",
    "\n",
    "N = 3\n",
    "CS10_NO_CS_female = (41, 36, 21)\n",
    "CS61A_CS_male = (3, 17, 78)\n",
    "\n",
    "ind = np.arange(N)  # the x locations for the groups\n",
    "width = 0.35       # the width of the bars\n",
    "\n",
    "#update params figure size to accomodate 2 figures\n",
    "params['figure.figsize'] = [6.5, 4.5]\n",
    "fig = figure(dpi=80) # no frame\n",
    "ax0 = fig.add_subplot(111)\n",
    "\n",
    "rects1 = ax0.bar(ind, CS10_NO_CS_female, width, color='y')\n",
    "rects2 = ax0.bar(ind+width, CS61A_CS_male, width, color='r')\n",
    "\n",
    "# change xlim to set_xlim\n",
    "#ax0.set_xlim(plot_params['xmin_gen'], plot_params['xmax_gen'])\n",
    "ax0.set_ylim(0, 100)\n",
    "\n",
    "#change xticks to set_xticks\n",
    "ax0.set_xticks(ind+width)\n",
    "ax0.set_xticklabels( ('Negatively', 'Neutral', 'Positively') )\n",
    "ax0.set_yticks(np.arange(0, 100+10, 10))\n",
    "legend = ax0.legend( (rects1[0], rects2[0]), ('CS10 Female with No Prior CS', 'CS61A Male with Prior CS') , loc=9);\n",
    "ax0.set_ylabel('Scores')\n",
    "ax0.legend(loc=9)\n",
    "ax0.margins(0.1)\n",
    "\n",
    "ax0.set_title(\"I know how to write computer programs.\\n\")\n",
    "\n",
    "def autolabel(rects):\n",
    "    # attach some text labels\n",
    "    for rect in rects:\n",
    "        height = rect.get_height()\n",
    "        ax0.text(rect.get_x()+rect.get_width()/2., 1.05*height, '%d%%'%int(height),\n",
    "                ha='center', va='bottom')\n",
    "\n",
    "autolabel(rects1)\n",
    "autolabel(rects2)\n",
    "\n",
    "plt.show()\n",
    "\n",
    "fileName = []\n",
    "fileName.append('atct_53_worstCaseScenario.pdf')\n",
    "fig.savefig(fileName[0], dpi=72)\n",
    "rcParams.update(params)\n"
   ]
  },
  {
   "cell_type": "code",
   "execution_count": null,
   "metadata": {
    "collapsed": true
   },
   "outputs": [],
   "source": []
  }
 ],
 "metadata": {
  "kernelspec": {
   "display_name": "Python 2",
   "language": "python",
   "name": "python2"
  },
  "language_info": {
   "codemirror_mode": {
    "name": "ipython",
    "version": 2
   },
   "file_extension": ".py",
   "mimetype": "text/x-python",
   "name": "python",
   "nbconvert_exporter": "python",
   "pygments_lexer": "ipython2",
   "version": "2.7.11"
  }
 },
 "nbformat": 4,
 "nbformat_minor": 0
}
