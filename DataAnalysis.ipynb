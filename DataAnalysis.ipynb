{
 "cells": [
  {
   "cell_type": "markdown",
   "metadata": {},
   "source": [
    "## Omoju Miller Dissertation Data Analysis \n",
    "### Factors that lead students to choose CS major at Cal"
   ]
  },
  {
   "cell_type": "code",
   "execution_count": 1,
   "metadata": {
    "collapsed": false
   },
   "outputs": [],
   "source": [
    "# inline graphs\n",
    "# %pylab inline\n",
    "from pylab import *"
   ]
  },
  {
   "cell_type": "code",
   "execution_count": 2,
   "metadata": {
    "collapsed": false
   },
   "outputs": [],
   "source": [
    "import sys\n",
    "sys.path.append('helperFunctions/')\n",
    "from IPython.display import display # Allows the use of display() for DataFrames\n",
    "import seaborn as sns # Seaborn for nice visualizations\n"
   ]
  },
  {
   "cell_type": "code",
   "execution_count": 3,
   "metadata": {
    "collapsed": false
   },
   "outputs": [],
   "source": [
    "import numpy as np\n",
    "import pandas as pd \n",
    "import HelperFunctionDataAnalysis as myHelper # helper functions to display images"
   ]
  },
  {
   "cell_type": "markdown",
   "metadata": {},
   "source": [
    "### Read in csv files and define dataframe object."
   ]
  },
  {
   "cell_type": "code",
   "execution_count": 4,
   "metadata": {
    "collapsed": false
   },
   "outputs": [],
   "source": [
    "dataPath = '/Users/omojumiller/Dropbox/Research/DissertationSubmission/'\n",
    "\n",
    "cs10Spring_df = pd.read_csv(dataPath+'Data/CS10_Pre_Responses_Spring2015.csv') \n",
    "cs10Spring_pdf = pd.read_csv(dataPath+'Data/CS10_Post_Responses_Spring2015.csv')\n",
    "cs61a = pd.read_csv(dataPath+'Data/CS61A_Responses_Fall2014.csv')\n"
   ]
  },
  {
   "cell_type": "markdown",
   "metadata": {},
   "source": [
    "### Data Description"
   ]
  },
  {
   "cell_type": "code",
   "execution_count": 5,
   "metadata": {
    "collapsed": false
   },
   "outputs": [
    {
     "name": "stdout",
     "output_type": "stream",
     "text": [
      "-------------------------------- Data Description --------------------------------\n",
      "atcs_1         I like to use computer science to solve problems.\n",
      "atcs_2         I can learn to understand computing concepts.\n",
      "atcs_3         I can achieve good grades (C or better) in computing courses.\n",
      "atcs_4         I do not like using computer science to solve problems.\n",
      "atcs_5         I am confident that I can solve problems by using computation\n",
      "atcs_6         The challenge of solving problems using computer science appeals to me.\n",
      "atcs_7         I am comfortable with learning computing concepts.\n",
      "atcs_8         I am confident about my abilities with regards to computer science.\n",
      "atcs_9         I do think I can learn to understand computing concepts.\n",
      "atcsgender_1   Women are less capable of success in CS than men.\n",
      "atcsgender_2   Women are smarter than men.\n",
      "atcsgender_3   Men have better math and science abilities than women.\n",
      "atcsjob_1      Knowledge of computing will allow me to secure a good job.\n",
      "atcsjob_2      My career goals do not require that I learn computing skills.\n",
      "atct_1         I am good at solving a problem by thinking about similar problems I’ve solved b\n",
      "               efore.              \n",
      "atct_2         I have good research skills.\n",
      "atct_3         I am good at using online search tools.\n",
      "atct_4         I am persistent at solving puzzles or logic problems.\n",
      "atct_5         I know how to write computer programs\n",
      "atct_6         I am good at building things.\n",
      "atct_7         I’m good at ignoring irrelevant details to solve a problem.\n",
      "atct_8         I know how to write a computer program to solve a problem.\n",
      "blg_1          In this class, I feel I belong.\n",
      "blg_2          In this class, I feel awkward and out of place.\n",
      "blg_3          In this class, I feel like my ideas count.\n",
      "blg_4          In this class, I feel like I matter.\n",
      "classmtr       Our class materials (e.g., case studies and projects) were relevant and practical\n",
      "               .                   \n",
      "clet_1         I work well in teams.\n",
      "clet_2         I think about the ethical, legal, and social implications of computing.\n",
      "cltrcmp_1      I am comfortable interacting with peers from different backgrounds than my own (b\n",
      "               ased on race, sexuality, income, and so on.)\n",
      "cltrcmp_2      I have good cultural competence, or the ability to interact effectively with peop\n",
      "               le from diverse backgrounds.\n",
      "consent        CONSENT If you agree to participate, please do so by clicking the \"I agree\" butto\n",
      "               n on this survey.   \n",
      "gender         Could I please know your gender\n",
      "grade          What grade do you think you will get in this class ?\n",
      "major          Do you have a declared major?\n",
      "morecs         Will you be taking any more CS classes (if so which ones?)\n",
      "mtr_1          Before I came to UC Berkeley, I knew people who have careers in Computer Science.\n",
      "                                   \n",
      "mtr_2          There are people with careers in Computer Science who look like me.\n",
      "mtr_3          I have role models within the Computer Science field that look like me.\n",
      "name_1         It would really help make my research better if you could share you name with me.\n",
      "                                   \n",
      "name_2         It would really help make my research better if you could share you name with me.\n",
      "                .1                 \n",
      "prcs_1         Did you take a CS course in High School?\n",
      "prcs_2         Did you have any exposure to Computer Science before UC Berkeley?\n",
      "prcs_3         Did a family member introduce you to Computer Science?\n",
      "prcs_4         Did you have a close family member who is a Computer Scientist or is affiliated w\n",
      "               ith computing industry?\n",
      "prcs_5         Did your high school offer AP CS?\n",
      "prepared       How prepared did you feel about this class before it started?\n",
      "reason_class   What is your reason for taking this class?\n",
      "snap_python    I was able to see how computational thinking carries over from Snap! to python\n",
      "hiphop_d1      The hip-hop data module made me see how computation can enhance culture\n",
      "hiphop_d2      Lyrical analysis gave me a new way to think about computation\n",
      "song_ct        I was able to build on my pre-existing knowledge about songs to further understan\n",
      "               d computation       \n",
      "timestamp      Timestamp           \n"
     ]
    }
   ],
   "source": [
    "#Get the description of the column items\n",
    "dd = pd.read_csv(dataPath+'Data/Data_Describe.csv')\n",
    "dd.columns = ['dataDecription', 'dataKeys']\n",
    "dataDescription = {}\n",
    "\n",
    "print \"-\"* 32, 'Data Description', \"-\"*32\n",
    "for i, row in dd.iterrows():\n",
    "    lineLength = len(row.dataDecription)\n",
    "    if (lineLength > 80):\n",
    "        lineOneEnd = 81\n",
    "        print\"{:15}{:20}\".format(row.dataKeys, row.dataDecription[:lineOneEnd])\n",
    "        print\"{:15}{:20}\".format('', row.dataDecription[lineOneEnd:])\n",
    "    else:\n",
    "         print\"{:15}{:20}\".format(row.dataKeys, row.dataDecription)\n",
    "    \n",
    "    dataDescription[dd.dataKeys[i]] = dd.dataDecription[i]\n",
    "    \n"
   ]
  },
  {
   "cell_type": "code",
   "execution_count": 6,
   "metadata": {
    "collapsed": false
   },
   "outputs": [
    {
     "name": "stdout",
     "output_type": "stream",
     "text": [
      "\n",
      "\n"
     ]
    }
   ],
   "source": [
    "print '\\n'\n",
    "del dataDescription['name_2']\n",
    "del dataDescription['name_1']\n",
    "del dataDescription['major']\n",
    "del dataDescription['morecs']\n",
    "del dataDescription['timestamp']\n",
    "del dataDescription['consent']\n",
    "del dataDescription['mtr_2']\n",
    "del dataDescription['mtr_3']\n",
    "del dataDescription['mtr_1']\n",
    "del dataDescription['prcs_3']\n",
    "del dataDescription['prcs_5']\n",
    "del dataDescription['prcs_4']\n",
    "del dataDescription['prcs_2']\n",
    "del dataDescription['prcs_1']\n",
    "del dataDescription['reason_class']\n",
    "del dataDescription['grade']\n",
    "del dataDescription['gender']\n",
    "del dataDescription['prepared']\n",
    "\n",
    "\n",
    "dataDescription['atct_1'] = 'I am good at solving a problem by thinking \\nabout similar problems I have solved before.'\n",
    "dataDescription['atct_7'] = 'I am good at ignoring irrelevant details to solve a problem.'\n",
    "tmp = '\\n with people from diverse backgrounds.'\n",
    "dataDescription['cltrcmp_2'] = 'I have good cultural competence, or the ability to interact effective' + tmp\n",
    "\n"
   ]
  },
  {
   "cell_type": "markdown",
   "metadata": {},
   "source": [
    "### Update column names"
   ]
  },
  {
   "cell_type": "code",
   "execution_count": 7,
   "metadata": {
    "collapsed": true
   },
   "outputs": [],
   "source": [
    "cs10Spring_df.columns = ['timestamp',\n",
    "'consent','gender','reason_class','major','atcs_1','atcsjob_1','atcs_2','atcsjob_2','atcsgender_1',\n",
    "'atcs_3','atcs_4','atcs_5','atcsgender_2','atcs_6','atcs_7','atcs_8','atcs_9','atcsgender_3',\n",
    "'atct_1','atct_2','atct_3','atct_4','atct_5','atct_6','atct_7','atct_8','clet_1','clet_2','grade',\n",
    "'mtr_1','mtr_2','mtr_3','blg_1','blg_2','blg_3','blg_4','cltrcmp_1',\n",
    "'cltrcmp_2','classmtr','prcs_1','prcs_2','prcs_3','prcs_4','prcs_5','prepared','morecs','name_1', 'name_2']\n"
   ]
  },
  {
   "cell_type": "code",
   "execution_count": 8,
   "metadata": {
    "collapsed": true
   },
   "outputs": [],
   "source": [
    "cs10Spring_pdf.columns = ['timestamp',\n",
    "'consent','gender','reason_class','major','atcs_1','atcsjob_1','atcs_2','atcsjob_2','atcsgender_1',\n",
    "'atcs_3','atcs_4','atcs_5','atcsgender_2','atcs_6','atcs_7','atcs_8','atcs_9','atcsgender_3',\n",
    "'atct_1','atct_2','atct_3','atct_4','atct_5','atct_6','atct_7','atct_8','clet_1','clet_2','grade',\n",
    "'mtr_1','mtr_2','mtr_3','blg_1','blg_2','blg_3','blg_4','cltrcmp_1',\n",
    "'cltrcmp_2','classmtr','prcs_1','prcs_2','prcs_3','prcs_4','prcs_5','prepared','morecs','name_1',\n",
    "                    'snap_python','hiphop_d1','hiphop_d2','song_ct']\n"
   ]
  },
  {
   "cell_type": "code",
   "execution_count": 9,
   "metadata": {
    "collapsed": true
   },
   "outputs": [],
   "source": [
    "cs61a.columns = ['timestamp','consent','gender',\n",
    "'reason_class','major','atcs_1','atcsjob_1','atcs_2','atcsjob_2','atcsgender_1','atcs_3','atcs_4',\n",
    "'atcs_5','atcsgender_2','atcs_6','atcs_7','atcs_8','atcs_9','atcsgender_3','atct_1',\n",
    "'atct_2','atct_3','atct_4','atct_5','atct_6','atct_7','atct_8','clet_1','clet_2','grade',\n",
    "'mtr_1','mtr_2','mtr_3','blg_1','blg_2','blg_3','blg_4','cltrcmp_1','cltrcmp_2','classmtr',\n",
    "'prcs_1','prcs_2','prcs_3','prcs_4','prcs_5','prepared','morecs','priorcs10','name']\n"
   ]
  },
  {
   "cell_type": "markdown",
   "metadata": {},
   "source": [
    "### Data Exploration\n",
    "We will begin exploring the data through visualizations and code to understand how each feature is related to the others. We will segment the data into separate data frames.\n",
    "\n",
    "#### Top frame\n",
    "- cs10\n",
    "- cs61a\n",
    "\n",
    "#### By Gender\n",
    "- cs10_female\n",
    "- cs10_male\n",
    "- cs61a_female\n",
    "- cs61a_male\n",
    "\n",
    "#### By previous CS exposure before College\n",
    "- cs10_CS\n",
    "- cs10_NO_CS\n",
    "- cs61a_CS\n",
    "- cs61a_NO_CS\n"
   ]
  },
  {
   "cell_type": "markdown",
   "metadata": {},
   "source": [
    "Lets go ahead and filter out missing data.\n",
    "\n",
    "If the consent value is **\"I disagree\"**, then drop that row from the data set."
   ]
  },
  {
   "cell_type": "code",
   "execution_count": 10,
   "metadata": {
    "collapsed": true
   },
   "outputs": [],
   "source": [
    "cs61a = cs61a[cs61a.consent == 'I agree']\n",
    "cs10Spring_df = cs10Spring_df[cs10Spring_df.consent == 'I agree']\n",
    "cs10Spring_pdf = cs10Spring_pdf[cs10Spring_pdf.consent == 'I agree']\n"
   ]
  },
  {
   "cell_type": "code",
   "execution_count": 11,
   "metadata": {
    "collapsed": true
   },
   "outputs": [],
   "source": [
    "# Add all the data from CS10 together since I am not doing before and after \n",
    "\n",
    "frames = [cs10Spring_df, cs10Spring_pdf]\n",
    "cs10 = pd.concat(frames, keys=['pre', 'post'])\n"
   ]
  },
  {
   "cell_type": "markdown",
   "metadata": {},
   "source": [
    "Lets filter out the data based on gender"
   ]
  },
  {
   "cell_type": "code",
   "execution_count": 12,
   "metadata": {
    "collapsed": false
   },
   "outputs": [
    {
     "name": "stdout",
     "output_type": "stream",
     "text": [
      "170 male students, and 217 female students consented to participate in the research CS10\n",
      "324 male students, and 171 female students consented to participate in the research CS61A\n"
     ]
    }
   ],
   "source": [
    "cs10_female = cs10[cs10.gender == 'Female']\n",
    "cs10_male = cs10[cs10.gender == 'Male']\n",
    "cs10_female = cs10_female.reset_index(drop=True)\n",
    "cs10_male = cs10_male.reset_index(drop=True)\n",
    "\n",
    "\n",
    "cs61a_female = cs61a[cs61a.gender == 'Female']\n",
    "cs61a_male = cs61a[cs61a.gender == 'Male']\n",
    "cs61a_female = cs61a_female.reset_index(drop=True)\n",
    "cs61a_male = cs61a_male.reset_index(drop=True)\n",
    "\n",
    "print ('%d male students, and %d female students consented to participate in the research CS10' \n",
    "       % (len(cs10_male), len(cs10_female)))\n",
    "print ('%d male students, and %d female students consented to participate in the research CS61A' \n",
    "       % (len(cs61a_male), len(cs61a_female)))\n",
    "\n"
   ]
  },
  {
   "cell_type": "markdown",
   "metadata": {},
   "source": [
    "Create the dimension that we are interested in investigating."
   ]
  },
  {
   "cell_type": "code",
   "execution_count": 13,
   "metadata": {
    "collapsed": false
   },
   "outputs": [],
   "source": [
    "mtr = ['mtr_1', 'mtr_2', 'mtr_3'] # CS Mentors\n",
    "prcs = ['prcs_1', 'prcs_2', 'prcs_3', 'prcs_4', 'prcs_5'] # Prior CS Exposure\n",
    "atcs = ['atcs_1', 'atcs_2', 'atcs_3', 'atcs_4', 'atcs_5', \n",
    "        'atcs_6', 'atcs_7', 'atcs_8', 'atcs_9']# self reported attitude about CS competency\n",
    "atct = ['atct_1', 'atct_2', 'atct_3', 'atct_4', \n",
    "        'atct_5', 'atct_6', 'atct_7', 'atct_8'] # Self reported attitudes about computational thinking\n",
    "blg = ['blg_1', 'blg_2', 'blg_3', 'blg_4'] # Sense of belonging in the class room\n",
    "clet = ['clet_1', 'clet_2'] # Social implications and ethics\n",
    "major = 'major'\n",
    "atcsgender = ['atcsgender_1', 'atcsgender_2', 'atcsgender_3'] \n",
    "atcsjob = ['atcsjob_1', 'atcsjob_2'] \n",
    "cltrcmp = ['cltrcmp_1', 'cltrcmp_2'] # Culutral competency\n",
    "gender = 'gender'\n",
    "priorcs10 = 'priorcs10' # had taken CS10 prior\n",
    "\n",
    "\n",
    "itemDimensions = {}\n",
    "itemDimensions['atcs'] = atcs\n",
    "itemDimensions['atcsgender'] = atcsgender\n",
    "itemDimensions['atcsjob'] = atcsjob \n",
    "itemDimensions['atct'] = atct\n",
    "itemDimensions['blg'] = blg\n",
    "itemDimensions['clet'] = clet\n",
    "itemDimensions['cltrcmp'] = cltrcmp\n",
    "\n"
   ]
  },
  {
   "cell_type": "code",
   "execution_count": 14,
   "metadata": {
    "collapsed": false
   },
   "outputs": [
    {
     "name": "stdout",
     "output_type": "stream",
     "text": [
      "There are 85 women WITHOUT prior CS exposure who are taking 61a\n",
      "There are 101 men WITHOUT prior CS exposure who are taking 61a\n",
      "\n",
      "There are 172 women WITHOUT prior CS exposure who are taking cs10\n",
      "There are 122 men WITHOUT prior CS exposure who are taking cs10\n",
      "\n",
      "There are 480 students WITHOUT prior CS exposure in this study\n",
      "\n",
      "Total Women: 257\n",
      "Total Men: 223\n"
     ]
    }
   ],
   "source": [
    "# get students from 61a who have had no prior cs experience\n",
    "\n",
    "# prcs_2: Did you have any exposure to Computer Science before UC Berkeley?\n",
    "cs61a_NO_CS = cs61a[cs61a.prcs_2 == 'No']\n",
    "cs10_NO_CS = cs10[cs10.prcs_2 == 'No']\n",
    "\n",
    "\n",
    "cs61a_NO_CS_female = cs61a_female[cs61a_female.prcs_2 == 'No']\n",
    "cs61a_NO_CS_male = cs61a_male[cs61a_male.prcs_2 == 'No']\n",
    "cs10_NO_CS_female = cs10_female[cs10_female.prcs_2 == 'No']\n",
    "cs10_NO_CS_male = cs10_male[cs10_male.prcs_2 == 'No']\n",
    "\n",
    "print 'There are %d women WITHOUT prior CS exposure who are taking 61a' % cs61a_NO_CS_female.prcs_2.value_counts()\n",
    "print 'There are %d men WITHOUT prior CS exposure who are taking 61a\\n' % cs61a_NO_CS_male.prcs_2.value_counts()\n",
    "print'There are %d women WITHOUT prior CS exposure who are taking cs10' % cs10_NO_CS_female.prcs_2.value_counts()\n",
    "print'There are %d men WITHOUT prior CS exposure who are taking cs10\\n' % cs10_NO_CS_male.prcs_2.value_counts()\n",
    "\n",
    "print ('There are %d students WITHOUT prior CS exposure in this study\\n' \n",
    "% ((cs61a_NO_CS_male.prcs_2.value_counts()+cs10_NO_CS_male.prcs_2.value_counts()) \\\n",
    "   + (cs61a_NO_CS_female.prcs_2.value_counts()+cs10_NO_CS_female.prcs_2.value_counts())))\n",
    "\n",
    "print 'Total Women: %d' % (cs61a_NO_CS_female.prcs_2.value_counts()+cs10_NO_CS_female.prcs_2.value_counts())\n",
    "print 'Total Men: %d' % (cs61a_NO_CS_male.prcs_2.value_counts()+cs10_NO_CS_male.prcs_2.value_counts())\n"
   ]
  },
  {
   "cell_type": "code",
   "execution_count": 15,
   "metadata": {
    "collapsed": false
   },
   "outputs": [
    {
     "name": "stdout",
     "output_type": "stream",
     "text": [
      "There are 45 women WITH prior CS exposure who are taking cs10\n",
      "There are 48 men WITH prior CS exposure who are taking cs10\n",
      "\n",
      "There are 86 women WITH prior CS exposure who are taking 61a\n",
      "There are 223 men WITH prior CS exposure who are taking 61a\n",
      "\n",
      "There are 402 students WITH prior CS exposure in this study\n",
      "\n",
      "Total Women: 131\n",
      "Total Men: 271\n"
     ]
    }
   ],
   "source": [
    "# get students from 61a who have had prior cs experience\n",
    "# prcs_2: Did you have any exposure to Computer Science before UC Berkeley?\n",
    "cs61a_CS = cs61a[cs61a.prcs_2 == 'Yes']\n",
    "cs10_CS = cs10[cs10.prcs_2 == 'Yes']\n",
    "\n",
    "cs10_CS_female = cs10_female[cs10_female.prcs_2 == 'Yes']\n",
    "cs10_CS_male = cs10_male[cs10_male.prcs_2 == 'Yes']\n",
    "cs61a_CS_female = cs61a_female[cs61a_female.prcs_2 == 'Yes']\n",
    "cs61a_CS_male = cs61a_male[cs61a_male.prcs_2 == 'Yes']\n",
    "\n",
    "print'There are %d women WITH prior CS exposure who are taking cs10' % cs10_CS_female.prcs_2.value_counts()\n",
    "print'There are %d men WITH prior CS exposure who are taking cs10\\n' % cs10_CS_male.prcs_2.value_counts()\n",
    "print 'There are %d women WITH prior CS exposure who are taking 61a' % cs61a_CS_female.prcs_2.value_counts()\n",
    "print 'There are %d men WITH prior CS exposure who are taking 61a\\n' % cs61a_CS_male.prcs_2.value_counts()\n",
    "\n",
    "\n",
    "print ('There are %d students WITH prior CS exposure in this study\\n' % \n",
    "((cs61a_CS_male.prcs_2.value_counts()+cs10_CS_male.prcs_2.value_counts()) \\\n",
    " + (cs61a_CS_female.prcs_2.value_counts()+cs10_CS_female.prcs_2.value_counts())))\n",
    "\n",
    "print 'Total Women: %d' % (cs61a_CS_female.prcs_2.value_counts()+cs10_CS_female.prcs_2.value_counts())\n",
    "print 'Total Men: %d' % (cs61a_CS_male.prcs_2.value_counts()+cs10_CS_male.prcs_2.value_counts())\n"
   ]
  },
  {
   "cell_type": "code",
   "execution_count": 16,
   "metadata": {
    "collapsed": true
   },
   "outputs": [],
   "source": [
    "dfSegments = {}\n",
    "dfSegments['cs10_CS'] = cs10_CS\n",
    "dfSegments['cs10_NO_CS'] = cs10_NO_CS\n",
    "dfSegments['cs61a_CS'] = cs61a_CS\n",
    "dfSegments['cs61a_NO_CS'] = cs61a_NO_CS\n",
    "\n",
    "dfSegments['cs10_female'] = cs10_female\n",
    "dfSegments['cs10_CS_female'] = cs10_CS_female\n",
    "dfSegments['cs10_NO_CS_female'] = cs10_NO_CS_female\n",
    "\n",
    "dfSegments['cs10_male'] = cs10_male\n",
    "dfSegments['cs10_CS_male'] = cs10_CS_male\n",
    "dfSegments['cs10_NO_CS_male'] = cs10_NO_CS_male\n",
    "\n",
    "dfSegments['cs61a_female'] = cs61a_female\n",
    "dfSegments['cs61a_NO_CS_female'] = cs61a_NO_CS_female\n",
    "\n",
    "dfSegments['cs61a_male'] = cs61a_male\n",
    "dfSegments['cs61a_NO_CS_male'] = cs61a_NO_CS_male\n",
    "\n",
    "dfSegments['cs61a_CS_female'] = cs61a_CS_female\n",
    "dfSegments['cs61a_CS_male'] = cs61a_CS_male "
   ]
  },
  {
   "cell_type": "markdown",
   "metadata": {},
   "source": [
    "## Test for statistical signifance"
   ]
  },
  {
   "cell_type": "code",
   "execution_count": 43,
   "metadata": {
    "collapsed": false,
    "scrolled": false
   },
   "outputs": [
    {
     "name": "stdout",
     "output_type": "stream",
     "text": [
      "Test for significance between CS10 and CS61A\n",
      "\n",
      "blg_1 \tIn this class, I feel I belong.\n",
      "Female \t0.02153060 \tStatistically Significant: *\n",
      "\n",
      "\n",
      "Test for significance between CS10 and CS61A\n",
      "\n",
      "blg_2 \tIn this class, I feel awkward and out of place.\n",
      "\n",
      "\n",
      "Test for significance between CS10 and CS61A\n",
      "\n",
      "blg_3 \tIn this class, I feel like my ideas count.\n",
      "Class \t0.00001109 \tStatistically Significant: ****\n",
      "Female \t0.00000106 \tStatistically Significant: ****\n",
      "Male \t0.00600122 \tStatistically Significant: **\n",
      "\n",
      "\n",
      "Test for significance between CS10 and CS61A\n",
      "\n",
      "blg_4 \tIn this class, I feel like I matter.\n",
      "Class \t0.00000073 \tStatistically Significant: ****\n",
      "Female \t0.00000141 \tStatistically Significant: ****\n",
      "Male \t0.00074444 \tStatistically Significant: ***\n",
      "\n",
      "\n"
     ]
    }
   ],
   "source": [
    "# Test for statistical signifance\n",
    "# Use non-parametric alternative to the t-test Mann-Whitney U test because we have ordinal data.\n",
    "# Likert scale is ordinal and not normally distributed\n",
    "# And I can use Mann Whitney to compare unequal sample size.\n",
    "\n",
    "#genPValues(atcs, '')\n",
    "#genPValues(atcsgender, '')\n",
    "#genPValues(atct,'')\n",
    "#genPValues(clet,'')\n",
    "#genPValues(cltrcmp,'')\n",
    "myHelper.genPValues(blg,'', 'cs10', 'cs61a', cs10, cs61a, dataDescription)"
   ]
  },
  {
   "cell_type": "code",
   "execution_count": 19,
   "metadata": {
    "collapsed": false
   },
   "outputs": [
    {
     "name": "stdout",
     "output_type": "stream",
     "text": [
      "There are 45 women WITH prior CS exposure who are taking cs10\n"
     ]
    }
   ],
   "source": [
    "print'There are %d women WITH prior CS exposure who are taking cs10' % cs10_CS_female.prcs_2.value_counts()"
   ]
  },
  {
   "cell_type": "code",
   "execution_count": 20,
   "metadata": {
    "collapsed": false,
    "scrolled": false
   },
   "outputs": [
    {
     "name": "stdout",
     "output_type": "stream",
     "text": [
      "Test for significance between CS10 and CS61A\n",
      "blg_1   :   In this class, I feel I belong.\n",
      "NoPrior CS Class    0.000460  Statistically Significant:    ***       \n",
      "No Prior CS Female  0.002089  Statistically Significant:    **        \n",
      "No Prior CS Male    0.015097  Statistically Significant:    **        \n",
      "\n",
      "\n",
      "Test for significance between CS10 and CS61A\n",
      "blg_2   :   In this class, I feel awkward and out of place.\n",
      "NoPrior CS Class    0.014721  Statistically Significant:    **        \n",
      "No Prior CS Female  0.025501  Statistically Significant:    *         \n",
      "\n",
      "\n",
      "Test for significance between CS10 and CS61A\n",
      "blg_3   :   In this class, I feel like my ideas count.\n",
      "Prior CS Class      0.007862  Statistically Significant:    **        \n",
      "NoPrior CS Class    0.000012  Statistically Significant:    ****      \n",
      "Prior CS Female     0.000485  Statistically Significant:    ***       \n",
      "No Prior CS Female  0.000566  Statistically Significant:    ***       \n",
      "No Prior CS Male    0.000992  Statistically Significant:    ***       \n",
      "\n",
      "\n",
      "Test for significance between CS10 and CS61A\n",
      "blg_4   :   In this class, I feel like I matter.\n",
      "Prior CS Class      0.014320  Statistically Significant:    **        \n",
      "NoPrior CS Class    0.000000  Statistically Significant:    ****      \n",
      "Prior CS Female     0.002419  Statistically Significant:    **        \n",
      "No Prior CS Female  0.000269  Statistically Significant:    ***       \n",
      "No Prior CS Male    0.000045  Statistically Significant:    ****      \n",
      "\n",
      "\n"
     ]
    }
   ],
   "source": [
    "# Test for statistical significance between students with prior exposure and students \n",
    "# without prior exposure\n",
    "\n",
    "#genPValues_2(atcs)\n",
    "#genPValues_2(atcsgender)\n",
    "#genPValues_2(atct)\n",
    "#genPValues_2(clet)\n",
    "#genPValues_2(cltrcmp)\n",
    "myHelper.genPValues_2(blg, 'cs10', 'cs61a', cs10, cs61a, dataDescription)"
   ]
  },
  {
   "cell_type": "markdown",
   "metadata": {},
   "source": [
    "### Investigate Correlations among items"
   ]
  },
  {
   "cell_type": "code",
   "execution_count": 21,
   "metadata": {
    "collapsed": false
   },
   "outputs": [],
   "source": [
    "list_of_lists = [\n",
    "itemDimensions['atcs'], \n",
    "itemDimensions['blg'],\n",
    "itemDimensions['atct']\n",
    "]\n",
    "#itemDimensions['atcsgender'],\n",
    "#itemDimensions['clet'],\n",
    "#itemDimensions['cltrcmp']]\n",
    "\n",
    "\n",
    "flattened = [val for sublist in list_of_lists for val in sublist]"
   ]
  },
  {
   "cell_type": "code",
   "execution_count": 42,
   "metadata": {
    "collapsed": false
   },
   "outputs": [
    {
     "name": "stdout",
     "output_type": "stream",
     "text": [
      "cs61a_CS_female\n",
      "cs61a_CS_male\n",
      "cs10_female\n",
      "cs61a_female\n",
      "cs10_CS_male\n",
      "cs10_NO_CS\n",
      "cs61a_male\n",
      "cs10_NO_CS_female\n",
      "cs10_NO_CS_male\n",
      "cs61a_NO_CS_male\n",
      "cs10_CS\n",
      "cs61a_NO_CS_female\n",
      "cs61a_NO_CS\n",
      "cs61a_CS\n",
      "cs10_male\n",
      "cs10_CS_female\n"
     ]
    }
   ],
   "source": [
    "for key in dfSegments:\n",
    "    print key\n",
    "    flattened = [val for sublist in list_of_lists for val in sublist]\n",
    "    df = eval(key + '[flattened]')\n",
    "    corr = df.corr()\n",
    "    mask = np.zeros_like(corr)\n",
    "    mask[np.triu_indices_from(mask, 1)] = True\n",
    "\n",
    "    myFileName='Figures' + '/' + key +'_corr.pdf'\n",
    "    rcParams['figure.figsize'] = 12, 8\n",
    "    fig = figure(dpi=80) # no frame\n",
    "\n",
    "    with sns.axes_style(\"white\"):\n",
    "        ax = sns.heatmap(corr, mask=mask, square=False, annot=True, vmin=-1, vmax=1,cmap='RdBu', fmt='+.1f')\n",
    "        plt.xticks(rotation=70, ha='right');\n",
    "        plt.yticks(rotation=2);\n",
    "\n",
    "    fig.savefig(myFileName)"
   ]
  },
  {
   "cell_type": "markdown",
   "metadata": {},
   "source": [
    "###  Correlation matrix of CS61A students who had previously taken CS10\n"
   ]
  },
  {
   "cell_type": "code",
   "execution_count": 61,
   "metadata": {
    "collapsed": true
   },
   "outputs": [],
   "source": [
    "\n",
    "cs61a_priorCS10 = cs61a[cs61a.priorcs10 == 'Yes']\n",
    "\n",
    "\n",
    "cs61a_priorCS10_female = cs61a_priorCS10[cs61a_priorCS10.gender == 'Female']\n",
    "cs61a_priorCS10_male = cs61a_priorCS10[cs61a_priorCS10.gender == 'Male']\n",
    "cs61a_priorCS10_female = cs61a_priorCS10_female.reset_index(drop=True)\n",
    "cs61a_priorCS10_male = cs61a_priorCS10_male.reset_index(drop=True)\n",
    "\n",
    "\n",
    "dfSegmentsPriorCS10 = {}\n",
    "dfSegmentsPriorCS10['cs61a_priorCS10_female'] = cs61a_priorCS10_female\n",
    "dfSegmentsPriorCS10['cs61a_priorCS10_male'] = cs61a_priorCS10_female\n",
    "\n",
    "# dfSegmentsPriorCS10[] = "
   ]
  },
  {
   "cell_type": "code",
   "execution_count": 65,
   "metadata": {
    "collapsed": false
   },
   "outputs": [
    {
     "name": "stdout",
     "output_type": "stream",
     "text": [
      "cs61a_priorCS10_male\n",
      "cs61a_priorCS10_female\n"
     ]
    }
   ],
   "source": [
    "# {figures/priorCS10_female_corr}\n",
    "# {figures/priorCS10_male_corr}\n",
    "\n",
    "for key in dfSegmentsPriorCS10:\n",
    "    print key\n",
    "    flattened = [val for sublist in list_of_lists for val in sublist]\n",
    "    df = eval(key + '[flattened]')\n",
    "    corr = df.corr()\n",
    "    mask = np.zeros_like(corr)\n",
    "    mask[np.triu_indices_from(mask, 1)] = True\n",
    "\n",
    "    myFileName='Figures' + '/' + key +'_corr.pdf'\n",
    "    rcParams['figure.figsize'] = 12, 8\n",
    "    fig = figure(dpi=80) # no frame\n",
    "\n",
    "    with sns.axes_style(\"white\"):\n",
    "        ax = sns.heatmap(corr, mask=mask, square=False, annot=True, vmin=-1, vmax=1,cmap='RdBu', fmt='+.1f')\n",
    "        plt.xticks(rotation=70, ha='right');\n",
    "        plt.yticks(rotation=2);\n",
    "\n",
    "    fig.savefig(myFileName)"
   ]
  },
  {
   "cell_type": "code",
   "execution_count": null,
   "metadata": {
    "collapsed": true
   },
   "outputs": [],
   "source": []
  },
  {
   "cell_type": "code",
   "execution_count": null,
   "metadata": {
    "collapsed": true
   },
   "outputs": [],
   "source": []
  },
  {
   "cell_type": "markdown",
   "metadata": {
    "collapsed": false
   },
   "source": [
    "### Plot data dimensions \n"
   ]
  },
  {
   "cell_type": "code",
   "execution_count": 24,
   "metadata": {
    "collapsed": false
   },
   "outputs": [],
   "source": [
    "theCategory = '_NO_CS'\n",
    "theXLabel = '   '\n",
    "itemDimension = ['blg_1', 'blg_2', 'blg_3', 'blg_4']\n",
    "\n",
    "\n",
    "def getPlotDimensions(key, attr, theCategory):\n",
    "    '''Function gets two arrays of datapoints.\n",
    "\n",
    "    Input:\n",
    "        key: a string for an instrument like 'blg_1'\n",
    "        attr: '_male', '_female', or ''\n",
    "        theCategory: a string that takes the following values ['_NO_CS', '_CS', '']\n",
    "        \n",
    "    Output: \n",
    "        x0: datapoints to be plotted represent cs10 information for the dimension and category\n",
    "        x1: ditto cs61a\n",
    "    '''\n",
    "    \n",
    "    temp = []\n",
    "    \n",
    "    temp.append('cs10'+theCategory+attr+'.'+key+'.value_counts()')\n",
    "    a = eval(temp[0])\n",
    "    myHelper.scaleData(a)\n",
    "    x0 = myHelper.turnArray(a)\n",
    "    temp = []\n",
    "        \n",
    "    temp.append('cs61a'+theCategory+attr+'.'+key+'.value_counts()')\n",
    "    b = eval(temp[0])\n",
    "    myHelper.scaleData(b)\n",
    "    x1 = myHelper.turnArray(b)\n",
    "    temp = []\n",
    "        \n",
    "    return x0, x1\n",
    "\n"
   ]
  },
  {
   "cell_type": "code",
   "execution_count": 25,
   "metadata": {
    "collapsed": false,
    "scrolled": false
   },
   "outputs": [],
   "source": [
    "# For the No prior CS Experience cohort\n",
    "\n",
    "theCategory = '_NO_CS'\n",
    "theXLabel = '   '\n",
    "itemDimension = ['blg_1', 'blg_2', 'blg_3', 'blg_4']\n",
    "attr = '_female' # the other value _male\n",
    "\n",
    "\n",
    "def createThePlots(itemDimension, myFileName, theCategory, attr, theXLabel):\n",
    "    \n",
    "    for i in range(len(itemDimension)):\n",
    "        x0, x1 = getPlotDimensions(itemDimension[i], attr, theCategory)\n",
    "        myHelper.genFigure(itemDimension[i], myFileName, theCategory, theXLabel, \n",
    "                           x0, x1, dataDescription[itemDimension[i]])\n",
    "        \n",
    "\n",
    "def createTheGenderPlots(itemDimension, myFileName, theCategory, genderAttr, theXLabel):\n",
    "    \n",
    "    for i in range(len(itemDimension)):\n",
    "        x0, x1 = getPlotDimensions(itemDimension[i], genderAttr, theCategory)\n",
    "        myHelper.genGenderFigure(itemDimension[i], myFileName, theCategory, genderAttr, theXLabel, \n",
    "                                 x0, x1, dataDescription[itemDimension[i]])\n"
   ]
  },
  {
   "cell_type": "code",
   "execution_count": 26,
   "metadata": {
    "collapsed": false
   },
   "outputs": [
    {
     "name": "stdout",
     "output_type": "stream",
     "text": [
      "Figures/blg_2_female_NO_CS.pdf\n"
     ]
    }
   ],
   "source": [
    "i = 1\n",
    "genderAttr = '_female'\n",
    "dimension = blg[i]\n",
    "myFileName = 'Figures' + '/' + dimension + genderAttr + theCategory + '.pdf'\n",
    "print myFileName"
   ]
  },
  {
   "cell_type": "code",
   "execution_count": 27,
   "metadata": {
    "collapsed": false,
    "scrolled": false
   },
   "outputs": [
    {
     "name": "stderr",
     "output_type": "stream",
     "text": [
      "/Users/omojumiller/anaconda/lib/python2.7/site-packages/matplotlib/__init__.py:872: UserWarning: text.fontsize is deprecated and replaced with font.size; please use the latter.\n",
      "  warnings.warn(self.msg_depr % (key, alt_key))\n",
      "/Users/omojumiller/anaconda/lib/python2.7/site-packages/matplotlib/axes/_axes.py:519: UserWarning: No labelled objects found. Use label='...' kwarg on individual plots.\n",
      "  warnings.warn(\"No labelled objects found. \"\n"
     ]
    }
   ],
   "source": [
    "theCategory = '_NO_CS'\n",
    "theXLabel = 'female'\n",
    "genderAttr = ''\n",
    "cohort = 'cs10'\n",
    "\n",
    "i = 1\n",
    "dimension = blg[i]\n",
    "myFileName = 'Figures' + '/' + dimension + genderAttr + theCategory + '.pdf'\n",
    "\n",
    "\n",
    "\n",
    "\n",
    "createThePlots(blg, myFileName, theCategory, genderAttr, theXLabel)\n",
    "#createThePlots(clet, myFileName, theCategory, genderAttr, theXLabel)\n",
    "#createThePlots(cltrcmp, myFileName, theCategory, genderAttr, theXLabel)\n",
    "#createThePlots(atcs, myFileName, theCategory, genderAttr, theXLabel)\n",
    "#createThePlots(atcsgender, myFileName, theCategory, genderAttr, theXLabel)\n",
    "#createThePlots(atct, myFileName, theCategory, genderAttr, theXLabel)\n"
   ]
  },
  {
   "cell_type": "code",
   "execution_count": 28,
   "metadata": {
    "collapsed": false
   },
   "outputs": [
    {
     "name": "stderr",
     "output_type": "stream",
     "text": [
      "/Users/omojumiller/anaconda/lib/python2.7/site-packages/matplotlib/pyplot.py:516: RuntimeWarning: More than 20 figures have been opened. Figures created through the pyplot interface (`matplotlib.pyplot.figure`) are retained until explicitly closed and may consume too much memory. (To control this warning, see the rcParam `figure.max_open_warning`).\n",
      "  max_open_warning, RuntimeWarning)\n"
     ]
    }
   ],
   "source": [
    "theCategory = '_NO_CS'\n",
    "theXLabel = 'female'\n",
    "genderAttr = '_female'\n",
    "cohort = 'cs10'\n",
    "\n",
    "i = 1\n",
    "dimension = blg[i]\n",
    "myFileName = 'Figures' + '/' + dimension + genderAttr + theCategory + '.pdf'\n",
    "\n",
    "createTheGenderPlots(blg,myFileName,theCategory,genderAttr,theXLabel)"
   ]
  },
  {
   "cell_type": "code",
   "execution_count": 29,
   "metadata": {
    "collapsed": false
   },
   "outputs": [],
   "source": [
    "theCategory = '_CS'\n",
    "theXLabel = '   '\n",
    "\n",
    "#createThePlots(blg, theCategory, theXLabel)\n",
    "#createThePlots(clet, theCategory, theXLabel)\n",
    "#createThePlots(cltrcmp, theCategory, theXLabel)\n",
    "#createThePlots(atcs, theCategory, theXLabel)\n",
    "#createThePlots(atcsgender, theCategory, theXLabel)\n",
    "#createThePlots(atct, theCategory, theXLabel)"
   ]
  },
  {
   "cell_type": "code",
   "execution_count": null,
   "metadata": {
    "collapsed": true
   },
   "outputs": [],
   "source": []
  }
 ],
 "metadata": {
  "kernelspec": {
   "display_name": "Python 2",
   "language": "python",
   "name": "python2"
  },
  "language_info": {
   "codemirror_mode": {
    "name": "ipython",
    "version": 2
   },
   "file_extension": ".py",
   "mimetype": "text/x-python",
   "name": "python",
   "nbconvert_exporter": "python",
   "pygments_lexer": "ipython2",
   "version": "2.7.12"
  }
 },
 "nbformat": 4,
 "nbformat_minor": 0
}
